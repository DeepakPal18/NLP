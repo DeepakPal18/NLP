{
  "nbformat": 4,
  "nbformat_minor": 0,
  "metadata": {
    "colab": {
      "provenance": []
    },
    "kernelspec": {
      "name": "python3",
      "display_name": "Python 3"
    },
    "language_info": {
      "name": "python"
    },
    "accelerator": "GPU",
    "gpuClass": "standard"
  },
  "cells": [
    {
      "cell_type": "markdown",
      "source": [
        "### 2 ways-\n",
        "1) NLTK - Write code (condition) to execute ngram\n",
        "\n",
        "2) Textblob - Easy"
      ],
      "metadata": {
        "id": "mreE3sIGujoO"
      }
    },
    {
      "cell_type": "code",
      "source": [
        "# NLTK - "
      ],
      "metadata": {
        "id": "8oIf-57Vu6md"
      },
      "execution_count": null,
      "outputs": []
    },
    {
      "cell_type": "code",
      "source": [
        "import re"
      ],
      "metadata": {
        "id": "HfiXbFNluew5"
      },
      "execution_count": null,
      "outputs": []
    },
    {
      "cell_type": "code",
      "source": [
        "def n_gram(text,n):\n",
        "  token = re.split(\"\\\\s+\",text)\n",
        "  ngram = []\n",
        "  # collect n-grams-\n",
        "  for i in range(len(token)-n+1):\n",
        "    temp = [token[j] for j in range(i,i+n)]\n",
        "    ngram.append(\" \".join(temp))\n",
        "  return ngram\n"
      ],
      "metadata": {
        "id": "iYmg2vv7uez8"
      },
      "execution_count": null,
      "outputs": []
    },
    {
      "cell_type": "code",
      "source": [
        "text = 'the qucik brown fox jumps over the tree'"
      ],
      "metadata": {
        "id": "J7NwHvlGue24"
      },
      "execution_count": null,
      "outputs": []
    },
    {
      "cell_type": "code",
      "source": [
        "# uni gram, n=1\n",
        "n_gram(text,1)"
      ],
      "metadata": {
        "colab": {
          "base_uri": "https://localhost:8080/"
        },
        "id": "UNX2gAlaue5_",
        "outputId": "0426162c-0895-467b-e13e-cd25b683a869"
      },
      "execution_count": null,
      "outputs": [
        {
          "output_type": "execute_result",
          "data": {
            "text/plain": [
              "['the', 'qucik', 'brown', 'fox', 'jumps', 'over', 'the', 'tree']"
            ]
          },
          "metadata": {},
          "execution_count": 4
        }
      ]
    },
    {
      "cell_type": "code",
      "source": [
        "# bi -gram , n=2\n",
        "n_gram(text,2)"
      ],
      "metadata": {
        "colab": {
          "base_uri": "https://localhost:8080/"
        },
        "id": "SrzyrZjUue9C",
        "outputId": "cd245ab0-8452-4260-bfa5-70350b53ef44"
      },
      "execution_count": null,
      "outputs": [
        {
          "output_type": "execute_result",
          "data": {
            "text/plain": [
              "['the qucik',\n",
              " 'qucik brown',\n",
              " 'brown fox',\n",
              " 'fox jumps',\n",
              " 'jumps over',\n",
              " 'over the',\n",
              " 'the tree']"
            ]
          },
          "metadata": {},
          "execution_count": 5
        }
      ]
    },
    {
      "cell_type": "code",
      "source": [
        "# tri - gram , n=3\n",
        "n_gram(text,3)"
      ],
      "metadata": {
        "colab": {
          "base_uri": "https://localhost:8080/"
        },
        "id": "2ETLdqfDufAN",
        "outputId": "0e6a07d8-3814-4e3a-e3b6-20ca1440262a"
      },
      "execution_count": null,
      "outputs": [
        {
          "output_type": "execute_result",
          "data": {
            "text/plain": [
              "['the qucik brown',\n",
              " 'qucik brown fox',\n",
              " 'brown fox jumps',\n",
              " 'fox jumps over',\n",
              " 'jumps over the',\n",
              " 'over the tree']"
            ]
          },
          "metadata": {},
          "execution_count": 6
        }
      ]
    },
    {
      "cell_type": "code",
      "source": [
        "# n = 4\n",
        "n_gram(text,4)"
      ],
      "metadata": {
        "colab": {
          "base_uri": "https://localhost:8080/"
        },
        "id": "DRnLuAgFufDB",
        "outputId": "87ff0208-0294-49c4-c4ea-628f9aac89a4"
      },
      "execution_count": null,
      "outputs": [
        {
          "output_type": "execute_result",
          "data": {
            "text/plain": [
              "['the qucik brown fox',\n",
              " 'qucik brown fox jumps',\n",
              " 'brown fox jumps over',\n",
              " 'fox jumps over the',\n",
              " 'jumps over the tree']"
            ]
          },
          "metadata": {},
          "execution_count": 7
        }
      ]
    },
    {
      "cell_type": "code",
      "source": [
        "# Textblob - \n",
        "# !pip install -U textblob"
      ],
      "metadata": {
        "colab": {
          "base_uri": "https://localhost:8080/"
        },
        "id": "NQc3XCYKufF_",
        "outputId": "ab3497d1-4886-4902-fa58-0e73b5121ae1"
      },
      "execution_count": null,
      "outputs": [
        {
          "output_type": "stream",
          "name": "stdout",
          "text": [
            "Looking in indexes: https://pypi.org/simple, https://us-python.pkg.dev/colab-wheels/public/simple/\n",
            "Requirement already satisfied: textblob in /usr/local/lib/python3.9/dist-packages (0.17.1)\n",
            "Requirement already satisfied: nltk>=3.1 in /usr/local/lib/python3.9/dist-packages (from textblob) (3.8.1)\n",
            "Requirement already satisfied: joblib in /usr/local/lib/python3.9/dist-packages (from nltk>=3.1->textblob) (1.1.1)\n",
            "Requirement already satisfied: regex>=2021.8.3 in /usr/local/lib/python3.9/dist-packages (from nltk>=3.1->textblob) (2022.10.31)\n",
            "Requirement already satisfied: tqdm in /usr/local/lib/python3.9/dist-packages (from nltk>=3.1->textblob) (4.65.0)\n",
            "Requirement already satisfied: click in /usr/local/lib/python3.9/dist-packages (from nltk>=3.1->textblob) (8.1.3)\n"
          ]
        }
      ]
    },
    {
      "cell_type": "code",
      "source": [
        "# !python -m textblob.download_corpora"
      ],
      "metadata": {
        "colab": {
          "base_uri": "https://localhost:8080/"
        },
        "id": "53cLJXxQufJG",
        "outputId": "b38175f3-bab0-49da-c074-8f8be6b5b371"
      },
      "execution_count": null,
      "outputs": [
        {
          "output_type": "stream",
          "name": "stdout",
          "text": [
            "[nltk_data] Downloading package brown to /root/nltk_data...\n",
            "[nltk_data]   Unzipping corpora/brown.zip.\n",
            "[nltk_data] Downloading package punkt to /root/nltk_data...\n",
            "[nltk_data]   Unzipping tokenizers/punkt.zip.\n",
            "[nltk_data] Downloading package wordnet to /root/nltk_data...\n",
            "[nltk_data] Downloading package averaged_perceptron_tagger to\n",
            "[nltk_data]     /root/nltk_data...\n",
            "[nltk_data]   Unzipping taggers/averaged_perceptron_tagger.zip.\n",
            "[nltk_data] Downloading package conll2000 to /root/nltk_data...\n",
            "[nltk_data]   Unzipping corpora/conll2000.zip.\n",
            "[nltk_data] Downloading package movie_reviews to /root/nltk_data...\n",
            "[nltk_data]   Unzipping corpora/movie_reviews.zip.\n",
            "Finished.\n"
          ]
        }
      ]
    },
    {
      "cell_type": "code",
      "source": [
        "from textblob import TextBlob"
      ],
      "metadata": {
        "id": "k3mACO1rufL_"
      },
      "execution_count": null,
      "outputs": []
    },
    {
      "cell_type": "code",
      "source": [
        "blob = TextBlob(text)\n",
        "blob"
      ],
      "metadata": {
        "colab": {
          "base_uri": "https://localhost:8080/"
        },
        "id": "2nkuEHPjufO6",
        "outputId": "c7142ae6-c2ae-486e-fd53-acde89f1c0c5"
      },
      "execution_count": null,
      "outputs": [
        {
          "output_type": "execute_result",
          "data": {
            "text/plain": [
              "TextBlob(\"the qucik brown fox jumps over the tree\")"
            ]
          },
          "metadata": {},
          "execution_count": 16
        }
      ]
    },
    {
      "cell_type": "code",
      "source": [
        "blob.ngrams(n=2)"
      ],
      "metadata": {
        "colab": {
          "base_uri": "https://localhost:8080/"
        },
        "id": "ZXzKLdKVufR4",
        "outputId": "b3e34036-8860-4474-e856-93235054afd3"
      },
      "execution_count": null,
      "outputs": [
        {
          "output_type": "execute_result",
          "data": {
            "text/plain": [
              "[WordList(['the', 'qucik']),\n",
              " WordList(['qucik', 'brown']),\n",
              " WordList(['brown', 'fox']),\n",
              " WordList(['fox', 'jumps']),\n",
              " WordList(['jumps', 'over']),\n",
              " WordList(['over', 'the']),\n",
              " WordList(['the', 'tree'])]"
            ]
          },
          "metadata": {},
          "execution_count": 17
        }
      ]
    },
    {
      "cell_type": "code",
      "source": [
        "#translate - \n",
        "text1 = 'El Partido Popular no levanta el foco sobre los negocios que Francis Puig, el hermano del presidente de la Generalitat, ha trazado con diferentes administraciones públicas en los últimos ocho años. Además del proceso que sigue abierto en el juzgado sobre las ayudas recibidas por el familiar de Ximo Puig, ha presentado ante la Agencia Valenciana Antifraude (AVAF) un total de 629 facturas y pagos por más de 408.000 euros \"sin proceso de licitación ni contratación\" que el Ayuntamiento de Morella hizo a las empresas de Francis Puig entre 2015 y 2023, los ocho años en los que Ximo Puig está al frente del gobierno valenciano'\n",
        "text1"
      ],
      "metadata": {
        "colab": {
          "base_uri": "https://localhost:8080/",
          "height": 156
        },
        "id": "eqf_VemlufUx",
        "outputId": "f20b8822-0954-4c75-9392-a019c3c08032"
      },
      "execution_count": null,
      "outputs": [
        {
          "output_type": "execute_result",
          "data": {
            "text/plain": [
              "'El Partido Popular no levanta el foco sobre los negocios que Francis Puig, el hermano del presidente de la Generalitat, ha trazado con diferentes administraciones públicas en los últimos ocho años. Además del proceso que sigue abierto en el juzgado sobre las ayudas recibidas por el familiar de Ximo Puig, ha presentado ante la Agencia Valenciana Antifraude (AVAF) un total de 629 facturas y pagos por más de 408.000 euros \"sin proceso de licitación ni contratación\" que el Ayuntamiento de Morella hizo a las empresas de Francis Puig entre 2015 y 2023, los ocho años en los que Ximo Puig está al frente del gobierno valenciano'"
            ],
            "application/vnd.google.colaboratory.intrinsic+json": {
              "type": "string"
            }
          },
          "metadata": {},
          "execution_count": 28
        }
      ]
    },
    {
      "cell_type": "code",
      "source": [
        "blob1 = TextBlob(text1)\n",
        "blob1"
      ],
      "metadata": {
        "colab": {
          "base_uri": "https://localhost:8080/"
        },
        "id": "In9NcGTaufXd",
        "outputId": "720aa80e-af2f-42f8-c6dd-802ad75df21d"
      },
      "execution_count": null,
      "outputs": [
        {
          "output_type": "execute_result",
          "data": {
            "text/plain": [
              "TextBlob(\"El Partido Popular no levanta el foco sobre los negocios que Francis Puig, el hermano del presidente de la Generalitat, ha trazado con diferentes administraciones públicas en los últimos ocho años. Además del proceso que sigue abierto en el juzgado sobre las ayudas recibidas por el familiar de Ximo Puig, ha presentado ante la Agencia Valenciana Antifraude (AVAF) un total de 629 facturas y pagos por más de 408.000 euros \"sin proceso de licitación ni contratación\" que el Ayuntamiento de Morella hizo a las empresas de Francis Puig entre 2015 y 2023, los ocho años en los que Ximo Puig está al frente del gobierno valenciano\")"
            ]
          },
          "metadata": {},
          "execution_count": 30
        }
      ]
    },
    {
      "cell_type": "code",
      "source": [
        "# print(blob1.detect_language())"
      ],
      "metadata": {
        "id": "iPJ6krx08Ehh"
      },
      "execution_count": null,
      "outputs": []
    },
    {
      "cell_type": "code",
      "source": [
        "blob1.translate(from_lang =\"es\",to=\"en\")"
      ],
      "metadata": {
        "colab": {
          "base_uri": "https://localhost:8080/"
        },
        "id": "vgRMx41Wufad",
        "outputId": "628d99ef-3592-406d-c328-10d692516f30"
      },
      "execution_count": null,
      "outputs": [
        {
          "output_type": "execute_result",
          "data": {
            "text/plain": [
              "TextBlob(\"The Popular Party does not raise the focus on the businesses that Francis Puig, the brother of the president of the Generalitat, has drawn with different public administrations in the last eight years. In addition to the process that remains open in the Court on the aid received by the family of Ximo Puig, it has presented to the Valencian Agency Anti -Fraude (AVAF) a total of 629 invoices and payments for more than 408,000 euros \"without tender or hiring process\" That the City of Morella made the companies of Francis Puig between 2015 and 2023, the eight years in which Ximo Puig is in charge of the Valencian government\")"
            ]
          },
          "metadata": {},
          "execution_count": 36
        }
      ]
    },
    {
      "cell_type": "code",
      "source": [],
      "metadata": {
        "id": "0YDx6DfNufdZ"
      },
      "execution_count": null,
      "outputs": []
    },
    {
      "cell_type": "code",
      "source": [],
      "metadata": {
        "id": "P6F-H8Gxufgu"
      },
      "execution_count": null,
      "outputs": []
    }
  ]
}